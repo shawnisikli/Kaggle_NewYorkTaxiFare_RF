{
 "cells": [
  {
   "cell_type": "code",
   "execution_count": 1,
   "id": "330b63f2",
   "metadata": {},
   "outputs": [
    {
     "name": "stderr",
     "output_type": "stream",
     "text": [
      "'[' is not recognized as an internal or external command,\n",
      "operable program or batch file.\n"
     ]
    }
   ],
   "source": [
    "#hide\n",
    "! [ -e /content ] && pip install -Uqq fastbook kaggle waterfallcharts treeinterpreter dtreeviz\n",
    "import fastbook\n",
    "fastbook.setup_book()"
   ]
  },
  {
   "cell_type": "code",
   "execution_count": 2,
   "id": "76204b68",
   "metadata": {},
   "outputs": [],
   "source": [
    "#hide\n",
    "import dtreeviz\n",
    "from fastbook import *\n",
    "from pandas.api.types import is_string_dtype, is_numeric_dtype, is_categorical_dtype\n",
    "from fastai.tabular.all import *\n",
    "from sklearn.ensemble import RandomForestRegressor\n",
    "from sklearn.tree import DecisionTreeRegressor\n",
    "from dtreeviz.trees import *\n",
    "# from dtreeviz.trees import dtreeviz\n",
    "from IPython.display import Image, display_svg, SVG\n",
    "\n",
    "pd.options.display.max_rows = 20\n",
    "pd.options.display.max_columns = 8"
   ]
  },
  {
   "cell_type": "code",
   "execution_count": 3,
   "id": "0c917305",
   "metadata": {},
   "outputs": [
    {
     "data": {
      "text/plain": [
       "Path('C:/Users/shawn/.fastai/archive/New-York-City-Taxi-Fare-Prediction')"
      ]
     },
     "execution_count": 3,
     "metadata": {},
     "output_type": "execute_result"
    }
   ],
   "source": [
    "comp = \"New-York-City-Taxi-Fare-Prediction\"\n",
    "path = URLs.path(comp)\n",
    "path"
   ]
  },
  {
   "cell_type": "code",
   "execution_count": 4,
   "id": "a6042522",
   "metadata": {},
   "outputs": [],
   "source": [
    "Path.BASE_PATH = path"
   ]
  },
  {
   "cell_type": "code",
   "execution_count": 5,
   "id": "d7efa8e5",
   "metadata": {},
   "outputs": [
    {
     "data": {
      "text/plain": [
       "(#0) []"
      ]
     },
     "execution_count": 5,
     "metadata": {},
     "output_type": "execute_result"
    }
   ],
   "source": [
    "if not path.exists():\n",
    "    path.mkdir(parents = True)\n",
    "    api.competition_download_cli('New York City Taxi Fare Prediction', path=path)\n",
    "    file_extract (path/'New York City Taxi Fare Prediction.zip')\n",
    "path.ls(file_type='text')"
   ]
  },
  {
   "cell_type": "code",
   "execution_count": 38,
   "id": "b6ae7194",
   "metadata": {},
   "outputs": [],
   "source": [
    "chunk_size = 10_000\n",
    "sample_fraction = 0.01\n",
    "seed=627\n",
    "\n",
    "chunk_df = pd.read_csv(path/'train.csv', low_memory=False, chunksize = chunk_size)\n",
    "df = pd.concat([chunk.sample(frac=sample_fraction, random_state = seed) for chunk in chunk_df])"
   ]
  },
  {
   "cell_type": "code",
   "execution_count": 39,
   "id": "2edc6c23",
   "metadata": {},
   "outputs": [
    {
     "data": {
      "text/plain": [
       "Index(['key', 'fare_amount', 'pickup_datetime', 'pickup_longitude',\n",
       "       'pickup_latitude', 'dropoff_longitude', 'dropoff_latitude',\n",
       "       'passenger_count'],\n",
       "      dtype='object')"
      ]
     },
     "execution_count": 39,
     "metadata": {},
     "output_type": "execute_result"
    }
   ],
   "source": [
    "df.columns"
   ]
  },
  {
   "cell_type": "code",
   "execution_count": 42,
   "id": "ea794669",
   "metadata": {},
   "outputs": [],
   "source": [
    "df = df.drop('key', axis =1 )"
   ]
  },
  {
   "cell_type": "code",
   "execution_count": 43,
   "id": "798cc8a6",
   "metadata": {},
   "outputs": [
    {
     "data": {
      "text/plain": [
       "Index(['fare_amount', 'pickup_datetime', 'pickup_longitude', 'pickup_latitude',\n",
       "       'dropoff_longitude', 'dropoff_latitude', 'passenger_count'],\n",
       "      dtype='object')"
      ]
     },
     "execution_count": 43,
     "metadata": {},
     "output_type": "execute_result"
    }
   ],
   "source": [
    "df.columns"
   ]
  },
  {
   "cell_type": "code",
   "execution_count": 44,
   "id": "834572a9",
   "metadata": {},
   "outputs": [],
   "source": [
    "df = df[(df['fare_amount']>=0) & (df['fare_amount']<=100)]"
   ]
  },
  {
   "cell_type": "code",
   "execution_count": 45,
   "id": "9a48965c",
   "metadata": {},
   "outputs": [
    {
     "data": {
      "text/plain": [
       "100.0"
      ]
     },
     "execution_count": 45,
     "metadata": {},
     "output_type": "execute_result"
    }
   ],
   "source": [
    "df.fare_amount.max()"
   ]
  },
  {
   "cell_type": "code",
   "execution_count": 47,
   "id": "73465be1",
   "metadata": {},
   "outputs": [],
   "source": [
    "dep_var = 'fare_amount'"
   ]
  },
  {
   "cell_type": "code",
   "execution_count": 48,
   "id": "0148c88a",
   "metadata": {},
   "outputs": [
    {
     "name": "stderr",
     "output_type": "stream",
     "text": [
      "C:\\Users\\shawn\\anaconda3\\Lib\\site-packages\\fastai\\tabular\\core.py:23: UserWarning: The argument 'infer_datetime_format' is deprecated and will be removed in a future version. A strict version of it is now the default, see https://pandas.pydata.org/pdeps/0004-consistent-to-datetime-parsing.html. You can safely remove this argument.\n",
      "  df[date_field] = pd.to_datetime(df[date_field], infer_datetime_format=True)\n"
     ]
    }
   ],
   "source": [
    "df = add_datepart(df, 'pickup_datetime')"
   ]
  },
  {
   "cell_type": "code",
   "execution_count": 34,
   "id": "72b9df50",
   "metadata": {},
   "outputs": [
    {
     "data": {
      "text/plain": [
       "Index(['fare_amount', 'pickup_longitude', 'pickup_latitude',\n",
       "       'dropoff_longitude', 'dropoff_latitude', 'passenger_count', 'keyYear',\n",
       "       'keyMonth', 'keyWeek', 'keyDay', 'keyDayofweek', 'keyDayofyear',\n",
       "       'keyIs_month_end', 'keyIs_month_start', 'keyIs_quarter_end',\n",
       "       'keyIs_quarter_start', 'keyIs_year_end', 'keyIs_year_start',\n",
       "       'keyElapsed', 'pickup_datetimeYear', 'pickup_datetimeMonth',\n",
       "       'pickup_datetimeWeek', 'pickup_datetimeDay', 'pickup_datetimeDayofweek',\n",
       "       'pickup_datetimeDayofyear', 'pickup_datetimeIs_month_end',\n",
       "       'pickup_datetimeIs_month_start', 'pickup_datetimeIs_quarter_end',\n",
       "       'pickup_datetimeIs_quarter_start', 'pickup_datetimeIs_year_end',\n",
       "       'pickup_datetimeIs_year_start', 'pickup_datetimeElapsed'],\n",
       "      dtype='object')"
      ]
     },
     "execution_count": 34,
     "metadata": {},
     "output_type": "execute_result"
    }
   ],
   "source": [
    "df.columns"
   ]
  },
  {
   "cell_type": "code",
   "execution_count": 36,
   "id": "c0ed9c79",
   "metadata": {},
   "outputs": [],
   "source": [
    "procs = [Categorify, FillMissing, Normalize]"
   ]
  },
  {
   "cell_type": "code",
   "execution_count": 51,
   "id": "2088ce77",
   "metadata": {},
   "outputs": [],
   "source": [
    "cond= (df.pickup_datetimeYear<2014) | (df.pickup_datetimeMonth<5)\n",
    "train_idx = np.where( cond)[0]\n",
    "valid_idx = np.where(~cond)[0]\n",
    "\n",
    "splits =(list(train_idx), list(valid_idx))"
   ]
  },
  {
   "cell_type": "code",
   "execution_count": 52,
   "id": "2694c34e",
   "metadata": {},
   "outputs": [
    {
     "data": {
      "text/plain": [
       "(4872220,)"
      ]
     },
     "execution_count": 52,
     "metadata": {},
     "output_type": "execute_result"
    }
   ],
   "source": [
    "train_idx.shape"
   ]
  },
  {
   "cell_type": "code",
   "execution_count": 53,
   "id": "830d28d9",
   "metadata": {},
   "outputs": [
    {
     "data": {
      "text/plain": [
       "(667795,)"
      ]
     },
     "execution_count": 53,
     "metadata": {},
     "output_type": "execute_result"
    }
   ],
   "source": [
    "valid_idx.shape"
   ]
  },
  {
   "cell_type": "code",
   "execution_count": 54,
   "id": "da427e7a",
   "metadata": {},
   "outputs": [],
   "source": [
    "cont, cat = cont_cat_split(df, dep_var= dep_var)"
   ]
  },
  {
   "cell_type": "code",
   "execution_count": 55,
   "id": "1c9d612d",
   "metadata": {},
   "outputs": [
    {
     "data": {
      "text/plain": [
       "['pickup_longitude',\n",
       " 'pickup_latitude',\n",
       " 'dropoff_longitude',\n",
       " 'dropoff_latitude',\n",
       " 'pickup_datetimeWeek',\n",
       " 'pickup_datetimeDay',\n",
       " 'pickup_datetimeDayofyear',\n",
       " 'pickup_datetimeElapsed']"
      ]
     },
     "execution_count": 55,
     "metadata": {},
     "output_type": "execute_result"
    }
   ],
   "source": [
    "cont"
   ]
  },
  {
   "cell_type": "code",
   "execution_count": 56,
   "id": "0e498134",
   "metadata": {},
   "outputs": [
    {
     "data": {
      "text/plain": [
       "['passenger_count',\n",
       " 'pickup_datetimeYear',\n",
       " 'pickup_datetimeMonth',\n",
       " 'pickup_datetimeDayofweek',\n",
       " 'pickup_datetimeIs_month_end',\n",
       " 'pickup_datetimeIs_month_start',\n",
       " 'pickup_datetimeIs_quarter_end',\n",
       " 'pickup_datetimeIs_quarter_start',\n",
       " 'pickup_datetimeIs_year_end',\n",
       " 'pickup_datetimeIs_year_start']"
      ]
     },
     "execution_count": 56,
     "metadata": {},
     "output_type": "execute_result"
    }
   ],
   "source": [
    "cat"
   ]
  },
  {
   "cell_type": "code",
   "execution_count": 57,
   "id": "41397c20",
   "metadata": {},
   "outputs": [],
   "source": [
    "to = TabularPandas(df, procs, cat, cont, y_names = dep_var, splits = splits)"
   ]
  },
  {
   "cell_type": "code",
   "execution_count": 58,
   "id": "e7c2de47",
   "metadata": {},
   "outputs": [
    {
     "data": {
      "text/plain": [
       "(4872220, 667795)"
      ]
     },
     "execution_count": 58,
     "metadata": {},
     "output_type": "execute_result"
    }
   ],
   "source": [
    "len(to.train), len(to.valid)"
   ]
  },
  {
   "cell_type": "code",
   "execution_count": 59,
   "id": "65555a84",
   "metadata": {},
   "outputs": [],
   "source": [
    "xs, y = to.train.xs, to.train.y\n",
    "valid_xs, valid_y = to.valid.xs, to.valid.y"
   ]
  },
  {
   "cell_type": "code",
   "execution_count": 65,
   "id": "d6e3b5ab",
   "metadata": {},
   "outputs": [],
   "source": [
    "def r_mse(pred, y):\n",
    "    return round(math.sqrt(((pred-y)**2).mean()),6)\n",
    "def m_rmse(m,xs,y):\n",
    "    return r_mse(m.predict(xs), y)"
   ]
  },
  {
   "cell_type": "code",
   "execution_count": 61,
   "id": "acd6c624",
   "metadata": {},
   "outputs": [],
   "source": [
    "def rf(xs,\n",
    "       y,\n",
    "       n_estimators=40,\n",
    "       min_samples_leaf=15,\n",
    "       max_features=0.5,\n",
    "       max_samples=200_000):\n",
    "    return RandomForestRegressor(n_jobs=-1,\n",
    "                                 n_estimators=n_estimators,\n",
    "                                 max_samples=max_samples,\n",
    "                                 max_features=max_features,\n",
    "                                 min_samples_leaf=min_samples_leaf,\n",
    "                                 oob_score=True).fit(xs, y)"
   ]
  },
  {
   "cell_type": "code",
   "execution_count": 62,
   "id": "571bc1e2",
   "metadata": {},
   "outputs": [],
   "source": [
    "m_rf = rf(xs,y)"
   ]
  },
  {
   "cell_type": "code",
   "execution_count": 66,
   "id": "721832d9",
   "metadata": {},
   "outputs": [
    {
     "data": {
      "text/plain": [
       "(3.86685, 4.207873)"
      ]
     },
     "execution_count": 66,
     "metadata": {},
     "output_type": "execute_result"
    }
   ],
   "source": [
    "m_rmse(m_rf, xs, y), m_rmse(m_rf, valid_xs, valid_y)"
   ]
  },
  {
   "cell_type": "code",
   "execution_count": 75,
   "id": "0c2bf112",
   "metadata": {},
   "outputs": [
    {
     "data": {
      "text/plain": [
       "Index(['fare_amount', 'pickup_longitude', 'pickup_latitude',\n",
       "       'dropoff_longitude', 'dropoff_latitude', 'passenger_count',\n",
       "       'pickup_datetimeYear', 'pickup_datetimeMonth', 'pickup_datetimeWeek',\n",
       "       'pickup_datetimeDay', 'pickup_datetimeDayofweek',\n",
       "       'pickup_datetimeDayofyear', 'pickup_datetimeIs_month_end',\n",
       "       'pickup_datetimeIs_month_start', 'pickup_datetimeIs_quarter_end',\n",
       "       'pickup_datetimeIs_quarter_start', 'pickup_datetimeIs_year_end',\n",
       "       'pickup_datetimeIs_year_start', 'pickup_datetimeElapsed'],\n",
       "      dtype='object')"
      ]
     },
     "execution_count": 75,
     "metadata": {},
     "output_type": "execute_result"
    }
   ],
   "source": [
    "df.columns"
   ]
  },
  {
   "cell_type": "code",
   "execution_count": 76,
   "id": "d3663492",
   "metadata": {},
   "outputs": [],
   "source": [
    "cont, cat = cont_cat_split(df, max_card = 9000, dep_var = dep_var)"
   ]
  },
  {
   "cell_type": "code",
   "execution_count": 77,
   "id": "99022b0f",
   "metadata": {},
   "outputs": [
    {
     "data": {
      "text/plain": [
       "['pickup_longitude',\n",
       " 'pickup_latitude',\n",
       " 'dropoff_longitude',\n",
       " 'dropoff_latitude',\n",
       " 'pickup_datetimeElapsed']"
      ]
     },
     "execution_count": 77,
     "metadata": {},
     "output_type": "execute_result"
    }
   ],
   "source": [
    "cont"
   ]
  },
  {
   "cell_type": "code",
   "execution_count": 78,
   "id": "5e4d6aac",
   "metadata": {},
   "outputs": [
    {
     "data": {
      "text/plain": [
       "['passenger_count',\n",
       " 'pickup_datetimeYear',\n",
       " 'pickup_datetimeMonth',\n",
       " 'pickup_datetimeWeek',\n",
       " 'pickup_datetimeDay',\n",
       " 'pickup_datetimeDayofweek',\n",
       " 'pickup_datetimeDayofyear',\n",
       " 'pickup_datetimeIs_month_end',\n",
       " 'pickup_datetimeIs_month_start',\n",
       " 'pickup_datetimeIs_quarter_end',\n",
       " 'pickup_datetimeIs_quarter_start',\n",
       " 'pickup_datetimeIs_year_end',\n",
       " 'pickup_datetimeIs_year_start']"
      ]
     },
     "execution_count": 78,
     "metadata": {},
     "output_type": "execute_result"
    }
   ],
   "source": [
    "cat"
   ]
  },
  {
   "cell_type": "code",
   "execution_count": 79,
   "id": "1c25240d",
   "metadata": {},
   "outputs": [
    {
     "data": {
      "text/plain": [
       "passenger_count                     11\n",
       "pickup_datetimeYear                  7\n",
       "pickup_datetimeMonth                12\n",
       "pickup_datetimeWeek                 53\n",
       "pickup_datetimeDay                  31\n",
       "pickup_datetimeDayofweek             7\n",
       "pickup_datetimeDayofyear           366\n",
       "pickup_datetimeIs_month_end          2\n",
       "pickup_datetimeIs_month_start        2\n",
       "pickup_datetimeIs_quarter_end        2\n",
       "pickup_datetimeIs_quarter_start      2\n",
       "pickup_datetimeIs_year_end           2\n",
       "pickup_datetimeIs_year_start         2\n",
       "dtype: int64"
      ]
     },
     "execution_count": 79,
     "metadata": {},
     "output_type": "execute_result"
    }
   ],
   "source": [
    "df[cat].nunique()"
   ]
  },
  {
   "cell_type": "code",
   "execution_count": 80,
   "id": "2a32900a",
   "metadata": {},
   "outputs": [],
   "source": [
    "to = TabularPandas(df, procs, cat, cont, splits = splits, y_names = dep_var)"
   ]
  },
  {
   "cell_type": "code",
   "execution_count": 81,
   "id": "d445535e",
   "metadata": {},
   "outputs": [],
   "source": [
    "dls = to.dataloaders(1024)"
   ]
  },
  {
   "cell_type": "code",
   "execution_count": 135,
   "id": "e5aa6eaa",
   "metadata": {},
   "outputs": [],
   "source": [
    "config = {'ps': [0.4, 0.4]}\n",
    "\n",
    "learn = tabular_learner(dls,\n",
    "                        y_range=(-1, 101),\n",
    "                        layers=[500, 250],\n",
    "                        n_out=1,\n",
    "                        loss_func=F.mse_loss\n",
    "                        )"
   ]
  },
  {
   "cell_type": "code",
   "execution_count": 126,
   "id": "d4d7d597",
   "metadata": {},
   "outputs": [
    {
     "data": {
      "text/html": [
       "\n",
       "<style>\n",
       "    /* Turns off some styling */\n",
       "    progress {\n",
       "        /* gets rid of default border in Firefox and Opera. */\n",
       "        border: none;\n",
       "        /* Needs to be in here for Safari polyfill so background images work as expected. */\n",
       "        background-size: auto;\n",
       "    }\n",
       "    progress:not([value]), progress:not([value])::-webkit-progress-bar {\n",
       "        background: repeating-linear-gradient(45deg, #7e7e7e, #7e7e7e 10px, #5c5c5c 10px, #5c5c5c 20px);\n",
       "    }\n",
       "    .progress-bar-interrupted, .progress-bar-interrupted::-webkit-progress-bar {\n",
       "        background: #F44336;\n",
       "    }\n",
       "</style>\n"
      ],
      "text/plain": [
       "<IPython.core.display.HTML object>"
      ]
     },
     "metadata": {},
     "output_type": "display_data"
    },
    {
     "data": {
      "text/html": [],
      "text/plain": [
       "<IPython.core.display.HTML object>"
      ]
     },
     "metadata": {},
     "output_type": "display_data"
    },
    {
     "data": {
      "text/plain": [
       "SuggestedLRs(valley=0.0014454397605732083)"
      ]
     },
     "execution_count": 126,
     "metadata": {},
     "output_type": "execute_result"
    },
    {
     "data": {
      "image/png": "[encoded data removed]",
      "text/plain": [
       "<Figure size 640x480 with 1 Axes>"
      ]
     },
     "metadata": {},
     "output_type": "display_data"
    }
   ],
   "source": [
    "learn.lr_find()"
   ]
  },
  {
   "cell_type": "code",
   "execution_count": null,
   "id": "39935a61",
   "metadata": {},
   "outputs": [
    {
     "data": {
      "text/html": [
       "\n",
       "<style>\n",
       "    /* Turns off some styling */\n",
       "    progress {\n",
       "        /* gets rid of default border in Firefox and Opera. */\n",
       "        border: none;\n",
       "        /* Needs to be in here for Safari polyfill so background images work as expected. */\n",
       "        background-size: auto;\n",
       "    }\n",
       "    progress:not([value]), progress:not([value])::-webkit-progress-bar {\n",
       "        background: repeating-linear-gradient(45deg, #7e7e7e, #7e7e7e 10px, #5c5c5c 10px, #5c5c5c 20px);\n",
       "    }\n",
       "    .progress-bar-interrupted, .progress-bar-interrupted::-webkit-progress-bar {\n",
       "        background: #F44336;\n",
       "    }\n",
       "</style>\n"
      ],
      "text/plain": [
       "<IPython.core.display.HTML object>"
      ]
     },
     "metadata": {},
     "output_type": "display_data"
    },
    {
     "data": {
      "text/html": [
       "\n",
       "    <div>\n",
       "      <progress value='3' class='' max='5' style='width:300px; height:20px; vertical-align: middle;'></progress>\n",
       "      60.00% [3/5 03:30&lt;02:20]\n",
       "    </div>\n",
       "    \n",
       "<table border=\"1\" class=\"dataframe\">\n",
       "  <thead>\n",
       "    <tr style=\"text-align: left;\">\n",
       "      <th>epoch</th>\n",
       "      <th>train_loss</th>\n",
       "      <th>valid_loss</th>\n",
       "      <th>time</th>\n",
       "    </tr>\n",
       "  </thead>\n",
       "  <tbody>\n",
       "    <tr>\n",
       "      <td>0</td>\n",
       "      <td>29.651646</td>\n",
       "      <td>129.511414</td>\n",
       "      <td>01:10</td>\n",
       "    </tr>\n",
       "    <tr>\n",
       "      <td>1</td>\n",
       "      <td>26.284279</td>\n",
       "      <td>126.484634</td>\n",
       "      <td>01:10</td>\n",
       "    </tr>\n",
       "    <tr>\n",
       "      <td>2</td>\n",
       "      <td>22.842846</td>\n",
       "      <td>105.787109</td>\n",
       "      <td>01:09</td>\n",
       "    </tr>\n",
       "  </tbody>\n",
       "</table><p>\n",
       "\n",
       "    <div>\n",
       "      <progress value='403' class='' max='653' style='width:300px; height:20px; vertical-align: middle;'></progress>\n",
       "      61.72% [403/653 00:02&lt;00:01 20.8846]\n",
       "    </div>\n",
       "    "
      ],
      "text/plain": [
       "<IPython.core.display.HTML object>"
      ]
     },
     "metadata": {},
     "output_type": "display_data"
    }
   ],
   "source": [
    "learn.fit_one_cycle(5, 5e-3, wd=0.1)"
   ]
  },
  {
   "cell_type": "code",
   "execution_count": 119,
   "id": "7363c73c",
   "metadata": {},
   "outputs": [
    {
     "data": {
      "text/html": [
       "\n",
       "<style>\n",
       "    /* Turns off some styling */\n",
       "    progress {\n",
       "        /* gets rid of default border in Firefox and Opera. */\n",
       "        border: none;\n",
       "        /* Needs to be in here for Safari polyfill so background images work as expected. */\n",
       "        background-size: auto;\n",
       "    }\n",
       "    progress:not([value]), progress:not([value])::-webkit-progress-bar {\n",
       "        background: repeating-linear-gradient(45deg, #7e7e7e, #7e7e7e 10px, #5c5c5c 10px, #5c5c5c 20px);\n",
       "    }\n",
       "    .progress-bar-interrupted, .progress-bar-interrupted::-webkit-progress-bar {\n",
       "        background: #F44336;\n",
       "    }\n",
       "</style>\n"
      ],
      "text/plain": [
       "<IPython.core.display.HTML object>"
      ]
     },
     "metadata": {},
     "output_type": "display_data"
    },
    {
     "data": {
      "text/html": [
       "<table border=\"1\" class=\"dataframe\">\n",
       "  <thead>\n",
       "    <tr style=\"text-align: left;\">\n",
       "      <th>epoch</th>\n",
       "      <th>train_loss</th>\n",
       "      <th>valid_loss</th>\n",
       "      <th>time</th>\n",
       "    </tr>\n",
       "  </thead>\n",
       "  <tbody>\n",
       "    <tr>\n",
       "      <td>0</td>\n",
       "      <td>20.536901</td>\n",
       "      <td>101.327255</td>\n",
       "      <td>01:20</td>\n",
       "    </tr>\n",
       "    <tr>\n",
       "      <td>1</td>\n",
       "      <td>22.916550</td>\n",
       "      <td>121.310318</td>\n",
       "      <td>01:22</td>\n",
       "    </tr>\n",
       "  </tbody>\n",
       "</table>"
      ],
      "text/plain": [
       "<IPython.core.display.HTML object>"
      ]
     },
     "metadata": {},
     "output_type": "display_data"
    },
    {
     "name": "stdout",
     "output_type": "stream",
     "text": [
      "No improvement since epoch 0: early stopping\n"
     ]
    }
   ],
   "source": [
    "# learn.fit_one_cycle(10, 1e-4,wd=0.1, cbs=[EarlyStoppingCallback(monitor='valid_loss', patience=2)])"
   ]
  },
  {
   "cell_type": "code",
   "execution_count": null,
   "id": "8b4d6693",
   "metadata": {},
   "outputs": [],
   "source": []
  },
  {
   "cell_type": "code",
   "execution_count": 131,
   "id": "56358ee5",
   "metadata": {},
   "outputs": [
    {
     "data": {
      "text/html": [
       "\n",
       "<style>\n",
       "    /* Turns off some styling */\n",
       "    progress {\n",
       "        /* gets rid of default border in Firefox and Opera. */\n",
       "        border: none;\n",
       "        /* Needs to be in here for Safari polyfill so background images work as expected. */\n",
       "        background-size: auto;\n",
       "    }\n",
       "    progress:not([value]), progress:not([value])::-webkit-progress-bar {\n",
       "        background: repeating-linear-gradient(45deg, #7e7e7e, #7e7e7e 10px, #5c5c5c 10px, #5c5c5c 20px);\n",
       "    }\n",
       "    .progress-bar-interrupted, .progress-bar-interrupted::-webkit-progress-bar {\n",
       "        background: #F44336;\n",
       "    }\n",
       "</style>\n"
      ],
      "text/plain": [
       "<IPython.core.display.HTML object>"
      ]
     },
     "metadata": {},
     "output_type": "display_data"
    },
    {
     "data": {
      "text/html": [],
      "text/plain": [
       "<IPython.core.display.HTML object>"
      ]
     },
     "metadata": {},
     "output_type": "display_data"
    },
    {
     "data": {
      "text/plain": [
       "9.382001"
      ]
     },
     "execution_count": 131,
     "metadata": {},
     "output_type": "execute_result"
    }
   ],
   "source": [
    "preds,targs = learn.get_preds()\n",
    "r_mse(preds, targs)"
   ]
  },
  {
   "cell_type": "code",
   "execution_count": 132,
   "id": "8efa811f",
   "metadata": {},
   "outputs": [],
   "source": [
    "rf_preds = m_rf.predict(valid_xs)\n",
    "\n",
    "ens_preds = (to_np(preds.squeeze())+rf_preds)/2"
   ]
  },
  {
   "cell_type": "code",
   "execution_count": 133,
   "id": "392528f3",
   "metadata": {},
   "outputs": [
    {
     "data": {
      "text/plain": [
       "6.100121"
      ]
     },
     "execution_count": 133,
     "metadata": {},
     "output_type": "execute_result"
    }
   ],
   "source": [
    "r_mse(ens_preds, valid_y)"
   ]
  },
  {
   "cell_type": "code",
   "execution_count": null,
   "id": "041b5be6",
   "metadata": {},
   "outputs": [],
   "source": []
  }
 ],
 "metadata": {
  "kernelspec": {
   "display_name": "Python 3.10 (PyTorch)",
   "language": "python",
   "name": "python310"
  },
  "language_info": {
   "codemirror_mode": {
    "name": "ipython",
    "version": 3
   },
   "file_extension": ".py",
   "mimetype": "text/x-python",
   "name": "python",
   "nbconvert_exporter": "python",
   "pygments_lexer": "ipython3",
   "version": "3.11.5"
  },
  "varInspector": {
   "cols": {
    "lenName": 16,
    "lenType": 16,
    "lenVar": 40
   },
   "kernels_config": {
    "python": {
     "delete_cmd_postfix": "",
     "delete_cmd_prefix": "del ",
     "library": "var_list.py",
     "varRefreshCmd": "print(var_dic_list())"
    },
    "r": {
     "delete_cmd_postfix": ") ",
     "delete_cmd_prefix": "rm(",
     "library": "var_list.r",
     "varRefreshCmd": "cat(var_dic_list()) "
    }
   },
   "types_to_exclude": [
    "module",
    "function",
    "builtin_function_or_method",
    "instance",
    "_Feature"
   ],
   "window_display": false
  }
 },
 "nbformat": 4,
 "nbformat_minor": 5
}
